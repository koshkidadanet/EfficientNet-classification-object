{
 "cells": [
  {
   "cell_type": "code",
   "execution_count": 1,
   "metadata": {
    "collapsed": true
   },
   "outputs": [],
   "source": [
    "import cv2\n",
    "import pandas as pd\n",
    "from keras.utils.np_utils import to_categorical\n",
    "import numpy as np\n",
    "import math\n",
    "from keras.preprocessing.image import ImageDataGenerator\n",
    "from numpy import expand_dims\n",
    "import matplotlib as plt"
   ]
  },
  {
   "cell_type": "code",
   "execution_count": 2,
   "outputs": [],
   "source": [
    "data = pd.read_csv('../train_dataset_train/train.csv')\n",
    "\n",
    "data_list = []\n",
    "for i in data['ID_img']:\n",
    "    image = cv2.imread('../train_dataset_train/train/'+i)\n",
    "    image = cv2.resize(image, (224, 224))\n",
    "    data_list.append(image)"
   ],
   "metadata": {
    "collapsed": false
   }
  },
  {
   "cell_type": "code",
   "execution_count": 3,
   "outputs": [],
   "source": [
    "def stratified_kfold(data,coef):\n",
    "    test_index = []\n",
    "    train_index = list(data.index)\n",
    "    value_count = data['class'].value_counts()\n",
    "    #print(value_count)\n",
    "    for value in value_count.index:\n",
    "        test_count = math.ceil(value_count[value]*coef)\n",
    "        test_index += list(data[data['class'] == value].index[0:test_count])\n",
    "    for index_test in test_index:\n",
    "        train_index.remove(index_test)\n",
    "    return train_index,test_index\n",
    "\n",
    "x_train = np.array(data_list).astype('float32') / 255.0\n",
    "y_train = data['class'].to_numpy().astype(int).reshape(-1, 1)\n",
    "y_train = to_categorical(y_train)\n",
    "\n",
    "train_index,test_index = stratified_kfold(data,0.1)\n",
    "x_train, x_val = x_train[train_index], x_train[test_index]\n",
    "y_train, y_val = y_train[train_index], y_train[test_index]\n"
   ],
   "metadata": {
    "collapsed": false
   }
  },
  {
   "cell_type": "code",
   "execution_count": null,
   "outputs": [],
   "source": [
    "'''featurewise_center: bool = False,\n",
    "samplewise_center: bool = False,\n",
    "featurewise_std_normalization: bool = False,\n",
    "samplewise_std_normalization: bool = False,\n",
    "zca_whitening: bool = False,\n",
    "zca_epsilon: float = 1e-6,\n",
    "rotation_range: int = 0,\n",
    "width_shift_range: float = 0.0,\n",
    "height_shift_range: float = 0.0,\n",
    "brightness_range: Any = None,\n",
    "shear_range: float = 0.0,\n",
    "zoom_range: float = 0.0,\n",
    "channel_shift_range: float = 0.0,\n",
    "fill_mode: str = \"nearest\",\n",
    "cval: float = 0.0,\n",
    "horizontal_flip: bool = False,\n",
    "vertical_flip: bool = False,\n",
    "rescale: Any = None,\n",
    "preprocessing_function: Any = None,\n",
    "data_format: {__eq__} | None = None,\n",
    "validation_split: float = 0.0,\n",
    "interpolation_order: int = 1,\n",
    "dtype: Any = None) -> Any'''"
   ],
   "metadata": {
    "collapsed": false
   }
  },
  {
   "cell_type": "code",
   "execution_count": 7,
   "outputs": [],
   "source": [
    "img = x_train[0]\n",
    "samples = expand_dims(img, 0)\n",
    "datagen = ImageDataGenerator(rotation_range = 360)\n",
    "train_gen = datagen.flow(samples, batch_size=1)\n",
    "for i in range(9):\n",
    "    batch = train_gen.next()\n",
    "    image = batch[0].astype('float32')\n",
    "    cv2.imshow('window_name', image)\n",
    "    cv2.waitKey(0)"
   ],
   "metadata": {
    "collapsed": false
   }
  },
  {
   "cell_type": "code",
   "execution_count": 13,
   "outputs": [],
   "source": [
    "img = x_train[0]\n",
    "samples = expand_dims(img, 0)\n",
    "datagen = ImageDataGenerator(width_shift_range=0.2)\n",
    "train_gen = datagen.flow(samples, batch_size=1)\n",
    "for i in range(9):\n",
    "    batch = train_gen.next()\n",
    "    image = batch[0].astype('float32')\n",
    "    cv2.imshow('window_name', image)\n",
    "    cv2.waitKey(0)\n"
   ],
   "metadata": {
    "collapsed": false
   }
  },
  {
   "cell_type": "code",
   "execution_count": 9,
   "outputs": [],
   "source": [
    "img = x_train[0]\n",
    "samples = expand_dims(img, 0)\n",
    "datagen = ImageDataGenerator(height_shift_range=0.2)\n",
    "train_gen = datagen.flow(samples, batch_size=1)\n",
    "for i in range(9):\n",
    "    batch = train_gen.next()\n",
    "    image = batch[0].astype('float32')\n",
    "    cv2.imshow('window_name', image)\n",
    "    cv2.waitKey(0)"
   ],
   "metadata": {
    "collapsed": false
   }
  },
  {
   "cell_type": "code",
   "execution_count": 10,
   "outputs": [],
   "source": [
    "img = x_train[0]\n",
    "samples = expand_dims(img, 0)\n",
    "datagen = ImageDataGenerator(brightness_range=[0.2,1.0])\n",
    "train_gen = datagen.flow(samples, batch_size=1)\n",
    "for i in range(9):\n",
    "    batch = train_gen.next()\n",
    "    image = batch[0].astype('float32')\n",
    "    cv2.imshow('window_name', image)\n",
    "    cv2.waitKey(0)"
   ],
   "metadata": {
    "collapsed": false
   }
  },
  {
   "cell_type": "code",
   "execution_count": 11,
   "outputs": [],
   "source": [
    "img = x_train[0]\n",
    "samples = expand_dims(img, 0)\n",
    "datagen = ImageDataGenerator(shear_range = 5)\n",
    "train_gen = datagen.flow(samples, batch_size=1)\n",
    "for i in range(9):\n",
    "    batch = train_gen.next()\n",
    "    image = batch[0].astype('float32')\n",
    "    cv2.imshow('window_name', image)\n",
    "    cv2.waitKey(0)"
   ],
   "metadata": {
    "collapsed": false
   }
  },
  {
   "cell_type": "code",
   "execution_count": 18,
   "outputs": [],
   "source": [
    "img = x_train[0]\n",
    "samples = expand_dims(img, 0)\n",
    "datagen = ImageDataGenerator(zoom_range = 0.19)\n",
    "train_gen = datagen.flow(samples, batch_size=1)\n",
    "for i in range(9):\n",
    "    batch = train_gen.next()\n",
    "    image = batch[0].astype('float32')\n",
    "    cv2.imshow('window_name', image)\n",
    "    cv2.waitKey(0)"
   ],
   "metadata": {
    "collapsed": false
   }
  },
  {
   "cell_type": "code",
   "execution_count": 17,
   "outputs": [],
   "source": [
    "img = x_train[0]\n",
    "samples = expand_dims(img, 0)\n",
    "datagen = ImageDataGenerator(channel_shift_range = 0.05)\n",
    "train_gen = datagen.flow(samples, batch_size=1)\n",
    "for i in range(9):\n",
    "    batch = train_gen.next()\n",
    "    image = batch[0].astype('float32')\n",
    "    cv2.imshow('window_name', image)\n",
    "    cv2.waitKey(0)"
   ],
   "metadata": {
    "collapsed": false
   }
  },
  {
   "cell_type": "code",
   "execution_count": 20,
   "outputs": [],
   "source": [
    "img = x_train[0]\n",
    "samples = expand_dims(img, 0)\n",
    "datagen = ImageDataGenerator(horizontal_flip = True)\n",
    "train_gen = datagen.flow(samples, batch_size=1)\n",
    "for i in range(9):\n",
    "    batch = train_gen.next()\n",
    "    image = batch[0].astype('float32')\n",
    "    cv2.imshow('window_name', image)\n",
    "    cv2.waitKey(0)"
   ],
   "metadata": {
    "collapsed": false
   }
  },
  {
   "cell_type": "code",
   "execution_count": 21,
   "outputs": [],
   "source": [
    "img = x_train[0]\n",
    "samples = expand_dims(img, 0)\n",
    "datagen = ImageDataGenerator(vertical_flip = True)\n",
    "train_gen = datagen.flow(samples, batch_size=1)\n",
    "for i in range(9):\n",
    "    batch = train_gen.next()\n",
    "    image = batch[0].astype('float32')\n",
    "    cv2.imshow('window_name', image)\n",
    "    cv2.waitKey(0)"
   ],
   "metadata": {
    "collapsed": false
   }
  }
 ],
 "metadata": {
  "kernelspec": {
   "display_name": "Python 3",
   "language": "python",
   "name": "python3"
  },
  "language_info": {
   "codemirror_mode": {
    "name": "ipython",
    "version": 2
   },
   "file_extension": ".py",
   "mimetype": "text/x-python",
   "name": "python",
   "nbconvert_exporter": "python",
   "pygments_lexer": "ipython2",
   "version": "2.7.6"
  }
 },
 "nbformat": 4,
 "nbformat_minor": 0
}
