{
 "cells": [
  {
   "cell_type": "code",
   "execution_count": 1,
   "metadata": {
    "collapsed": true
   },
   "outputs": [],
   "source": [
    "import cv2\n",
    "import keras\n",
    "import pandas as pd\n",
    "from keras.utils.np_utils import to_categorical\n",
    "from keras import layers\n",
    "from keras.applications import EfficientNetV2B0\n",
    "from keras.utils import Sequence\n",
    "import numpy as np\n",
    "from matplotlib import pyplot as plt\n",
    "import math\n",
    "from keras.preprocessing.image import ImageDataGenerator"
   ]
  },
  {
   "cell_type": "code",
   "execution_count": 2,
   "outputs": [],
   "source": [
    "data = pd.read_csv('../train_dataset_train/train.csv')\n",
    "\n",
    "data_list = []\n",
    "for i in data['ID_img']:\n",
    "    image = cv2.imread('../train_dataset_train/train/'+i)\n",
    "    image = cv2.resize(image, (224, 224))\n",
    "    data_list.append(image)"
   ],
   "metadata": {
    "collapsed": false
   }
  },
  {
   "cell_type": "code",
   "execution_count": 3,
   "outputs": [
    {
     "name": "stdout",
     "output_type": "stream",
     "text": [
      "(4487, 224, 224, 3)\n",
      "(503, 224, 224, 3)\n"
     ]
    }
   ],
   "source": [
    "def stratified_kfold(data,coef):\n",
    "    test_index = []\n",
    "    train_index = list(data.index)\n",
    "    value_count = data['class'].value_counts()\n",
    "    #print(value_count)\n",
    "    for value in value_count.index:\n",
    "        test_count = math.ceil(value_count[value]*coef)\n",
    "        test_index += list(data[data['class'] == value].index[0:test_count])\n",
    "    for index_test in test_index:\n",
    "        train_index.remove(index_test)\n",
    "    return train_index,test_index\n",
    "\n",
    "x_train_full = np.array(data_list).astype('float32') / 255.0\n",
    "y_train_full = data['class'].to_numpy().astype(int).reshape(-1, 1)\n",
    "y_train_full = to_categorical(y_train_full)\n",
    "\n",
    "train_index,test_index = stratified_kfold(data,0.1)\n",
    "x_train, x_val = x_train_full[train_index], x_train_full[test_index]\n",
    "y_train, y_val = y_train_full[train_index], y_train_full[test_index]\n",
    "\n",
    "print(x_train.shape)\n",
    "print(x_val.shape)\n"
   ],
   "metadata": {
    "collapsed": false
   }
  },
  {
   "cell_type": "code",
   "execution_count": 4,
   "outputs": [],
   "source": [
    "class DataGenerator(Sequence):\n",
    "    def __init__(self, x_set, y_set, batch_size):\n",
    "        self.x, self.y = x_set, y_set\n",
    "        self.batch_size = batch_size\n",
    "\n",
    "    def __len__(self):\n",
    "        return int(np.ceil(len(self.x) / float(self.batch_size)))\n",
    "\n",
    "    def __getitem__(self, idx):\n",
    "        batch_x = self.x[idx * self.batch_size:(idx + 1) * self.batch_size]\n",
    "        batch_y = self.y[idx * self.batch_size:(idx + 1) * self.batch_size]\n",
    "        return batch_x, batch_y\n",
    "val_gen = DataGenerator(x_val, y_val, 12)\n",
    "#train_gen = DataGenerator(x_train, y_train, 12)\n",
    "\n",
    "datagen = ImageDataGenerator(\n",
    "    rotation_range=45,\n",
    "    width_shift_range=0.2,\n",
    "    height_shift_range=0.2,\n",
    "    shear_range = 5,\n",
    "    zoom_range = 0.05,\n",
    "    channel_shift_range = 0.05,\n",
    "    horizontal_flip=True)\n",
    "train_gen = datagen.flow(x_train_full, y_train_full, 12)"
   ],
   "metadata": {
    "collapsed": false
   }
  },
  {
   "cell_type": "code",
   "execution_count": 5,
   "outputs": [
    {
     "name": "stdout",
     "output_type": "stream",
     "text": [
      "Model: \"model\"\n",
      "_________________________________________________________________\n",
      " Layer (type)                Output Shape              Param #   \n",
      "=================================================================\n",
      " input_1 (InputLayer)        [(None, 224, 224, 3)]     0         \n",
      "                                                                 \n",
      " efficientnetv2-b0 (Function  (None, 8)                5929560   \n",
      " al)                                                             \n",
      "                                                                 \n",
      "=================================================================\n",
      "Total params: 5,929,560\n",
      "Trainable params: 5,868,952\n",
      "Non-trainable params: 60,608\n",
      "_________________________________________________________________\n",
      "416/416 [==============================] - 64s 118ms/step - loss: 0.0525 - accuracy: 0.9816 - val_loss: 0.0134 - val_accuracy: 0.9940\n"
     ]
    }
   ],
   "source": [
    "num_classes = 8\n",
    "img_size = 224\n",
    "\n",
    "inputs = layers.Input(shape=(img_size, img_size, 3))\n",
    "output = EfficientNetV2B0(include_top=True, weights='3_weights_EfficientNetb0v2_ep150_full.h5', classes=num_classes,include_preprocessing = False, input_shape = (224,224,3))(inputs)#,include_preprocessing = False\n",
    "model = keras.Model(inputs,output)\n",
    "model.compile(optimizer='adam', loss = 'categorical_crossentropy', metrics=[\"accuracy\"])\n",
    "model.summary()\n",
    "his = model.fit(train_gen,epochs=1,validation_data = val_gen)"
   ],
   "metadata": {
    "collapsed": false
   }
  },
  {
   "cell_type": "code",
   "execution_count": 6,
   "outputs": [],
   "source": [
    "model.layers[1].save_weights('3_weights_EfficientNetb0v2_ep151_full.h5')"
   ],
   "metadata": {
    "collapsed": false
   }
  },
  {
   "cell_type": "code",
   "execution_count": 7,
   "outputs": [],
   "source": [
    "model.save('3_EfficientNetb0v2_ep151_full.h5')"
   ],
   "metadata": {
    "collapsed": false
   }
  },
  {
   "cell_type": "code",
   "execution_count": 8,
   "outputs": [
    {
     "data": {
      "text/plain": "<Figure size 640x480 with 1 Axes>",
      "image/png": "[encoded data removed]"
     },
     "metadata": {},
     "output_type": "display_data"
    }
   ],
   "source": [
    "plt.plot(his.history['accuracy'])\n",
    "plt.plot(his.history['val_accuracy'])\n",
    "plt.title('model accuracy')\n",
    "plt.ylabel('accuracy')\n",
    "plt.xlabel('epoch')\n",
    "plt.legend(['train', 'val'], loc='upper left')\n",
    "plt.show()"
   ],
   "metadata": {
    "collapsed": false
   }
  },
  {
   "cell_type": "code",
   "execution_count": null,
   "outputs": [],
   "source": [],
   "metadata": {
    "collapsed": false
   }
  }
 ],
 "metadata": {
  "kernelspec": {
   "display_name": "Python 3",
   "language": "python",
   "name": "python3"
  },
  "language_info": {
   "codemirror_mode": {
    "name": "ipython",
    "version": 2
   },
   "file_extension": ".py",
   "mimetype": "text/x-python",
   "name": "python",
   "nbconvert_exporter": "python",
   "pygments_lexer": "ipython2",
   "version": "2.7.6"
  }
 },
 "nbformat": 4,
 "nbformat_minor": 0
}
