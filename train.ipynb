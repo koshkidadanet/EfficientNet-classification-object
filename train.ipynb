{
 "cells": [
  {
   "cell_type": "code",
   "execution_count": 1,
   "metadata": {
    "collapsed": true
   },
   "outputs": [],
   "source": [
    "import cv2\n",
    "import keras\n",
    "import pandas as pd\n",
    "from keras.utils.np_utils import to_categorical\n",
    "from keras import layers\n",
    "from keras.applications import EfficientNetV2B0\n",
    "from keras.utils import Sequence\n",
    "import numpy as np\n",
    "from matplotlib import pyplot as plt\n",
    "import math\n",
    "from keras.preprocessing.image import ImageDataGenerator"
   ]
  },
  {
   "cell_type": "code",
   "execution_count": 2,
   "outputs": [],
   "source": [
    "data = pd.read_csv('../train_dataset_train/train.csv')\n",
    "\n",
    "data_list = []\n",
    "for i in data['ID_img']:\n",
    "    image = cv2.imread('../train_dataset_train/train/'+i)\n",
    "    image = cv2.resize(image, (224, 224))\n",
    "    data_list.append(image)"
   ],
   "metadata": {
    "collapsed": false
   }
  },
  {
   "cell_type": "code",
   "execution_count": null,
   "outputs": [],
   "source": [
    "def stratified_kfold(data,coef):\n",
    "    test_index = []\n",
    "    train_index = list(data.index)\n",
    "    value_count = data['class'].value_counts()\n",
    "    #print(value_count)\n",
    "    for value in value_count.index:\n",
    "        test_count = math.ceil(value_count[value]*coef)\n",
    "        test_index += list(data[data['class'] == value].index[0:test_count])\n",
    "    for index_test in test_index:\n",
    "        train_index.remove(index_test)\n",
    "    print(len(train_index))\n",
    "    print(len(test_index))\n",
    "    return train_index,test_index\n",
    "\n",
    "x_train_full = np.array(data_list).astype('float32') / 255.0\n",
    "y_train_full = data['class'].to_numpy().astype(int).reshape(-1, 1)\n",
    "y_train_full = to_categorical(y_train_full)\n",
    "\n",
    "train_index,test_index = stratified_kfold(data,0.1)\n",
    "x_train, x_val = x_train_full[train_index], x_train_full[test_index]\n",
    "y_train, y_val = y_train_full[train_index], y_train_full[test_index]"
   ],
   "metadata": {
    "collapsed": false,
    "pycharm": {
     "is_executing": true
    }
   }
  },
  {
   "cell_type": "code",
   "execution_count": 4,
   "outputs": [],
   "source": [
    "class DataGenerator(Sequence):\n",
    "    def __init__(self, x_set, y_set, batch_size):\n",
    "        self.x, self.y = x_set, y_set\n",
    "        self.batch_size = batch_size\n",
    "\n",
    "    def __len__(self):\n",
    "        return int(np.ceil(len(self.x) / float(self.batch_size)))\n",
    "\n",
    "    def __getitem__(self, idx):\n",
    "        batch_x = self.x[idx * self.batch_size:(idx + 1) * self.batch_size]\n",
    "        batch_y = self.y[idx * self.batch_size:(idx + 1) * self.batch_size]\n",
    "        return batch_x, batch_y\n",
    "val_gen = DataGenerator(x_val, y_val, 12)\n",
    "#train_gen = DataGenerator(x_train, y_train, 12)\n",
    "\n",
    "datagen = ImageDataGenerator(\n",
    "    rotation_range=45,\n",
    "    width_shift_range=0.2,\n",
    "    height_shift_range=0.2,\n",
    "    shear_range = 5,\n",
    "    zoom_range = 0.05,\n",
    "    channel_shift_range = 0.05,\n",
    "    horizontal_flip=True)\n",
    "train_gen = datagen.flow(x_train_full, y_train_full, 12)"
   ],
   "metadata": {
    "collapsed": false
   }
  },
  {
   "cell_type": "code",
   "execution_count": 5,
   "outputs": [
    {
     "name": "stdout",
     "output_type": "stream",
     "text": [
      "Model: \"model\"\n",
      "_________________________________________________________________\n",
      " Layer (type)                Output Shape              Param #   \n",
      "=================================================================\n",
      " input_1 (InputLayer)        [(None, 224, 224, 3)]     0         \n",
      "                                                                 \n",
      " efficientnetv2-b0 (Function  (None, 8)                5929560   \n",
      " al)                                                             \n",
      "                                                                 \n",
      "=================================================================\n",
      "Total params: 5,929,560\n",
      "Trainable params: 5,868,952\n",
      "Non-trainable params: 60,608\n",
      "_________________________________________________________________\n",
      "Epoch 1/70\n",
      "416/416 [==============================] - 64s 116ms/step - loss: 2.2741 - accuracy: 0.3749 - val_loss: 1.3155 - val_accuracy: 0.5388\n",
      "Epoch 2/70\n",
      "416/416 [==============================] - 45s 108ms/step - loss: 1.5133 - accuracy: 0.5114 - val_loss: 1.0023 - val_accuracy: 0.6700\n",
      "Epoch 3/70\n",
      "416/416 [==============================] - 45s 108ms/step - loss: 1.3185 - accuracy: 0.5695 - val_loss: 0.8881 - val_accuracy: 0.6938\n",
      "Epoch 4/70\n",
      "416/416 [==============================] - 45s 107ms/step - loss: 1.1990 - accuracy: 0.6146 - val_loss: 0.8528 - val_accuracy: 0.7336\n",
      "Epoch 5/70\n",
      "416/416 [==============================] - 44s 105ms/step - loss: 1.0936 - accuracy: 0.6493 - val_loss: 0.7946 - val_accuracy: 0.7137\n",
      "Epoch 6/70\n",
      "416/416 [==============================] - 44s 106ms/step - loss: 1.0661 - accuracy: 0.6529 - val_loss: 0.6865 - val_accuracy: 0.7972\n",
      "Epoch 7/70\n",
      "416/416 [==============================] - 44s 106ms/step - loss: 0.9564 - accuracy: 0.6942 - val_loss: 0.6461 - val_accuracy: 0.7853\n",
      "Epoch 8/70\n",
      "416/416 [==============================] - 44s 107ms/step - loss: 0.8987 - accuracy: 0.7110 - val_loss: 0.5075 - val_accuracy: 0.8390\n",
      "Epoch 9/70\n",
      "416/416 [==============================] - 44s 106ms/step - loss: 0.8844 - accuracy: 0.7102 - val_loss: 0.5499 - val_accuracy: 0.8231\n",
      "Epoch 10/70\n",
      "416/416 [==============================] - 44s 106ms/step - loss: 0.8032 - accuracy: 0.7427 - val_loss: 0.5431 - val_accuracy: 0.8131\n",
      "Epoch 11/70\n",
      "416/416 [==============================] - 45s 107ms/step - loss: 0.7824 - accuracy: 0.7471 - val_loss: 0.4604 - val_accuracy: 0.8549\n",
      "Epoch 12/70\n",
      "416/416 [==============================] - 44s 107ms/step - loss: 0.7204 - accuracy: 0.7695 - val_loss: 0.4343 - val_accuracy: 0.8410\n",
      "Epoch 13/70\n",
      "416/416 [==============================] - 44s 106ms/step - loss: 0.6893 - accuracy: 0.7735 - val_loss: 0.4080 - val_accuracy: 0.8847\n",
      "Epoch 14/70\n",
      "416/416 [==============================] - 45s 107ms/step - loss: 0.6586 - accuracy: 0.7854 - val_loss: 0.3743 - val_accuracy: 0.8767\n",
      "Epoch 15/70\n",
      "416/416 [==============================] - 45s 107ms/step - loss: 0.6167 - accuracy: 0.7990 - val_loss: 0.3151 - val_accuracy: 0.8907\n",
      "Epoch 16/70\n",
      "416/416 [==============================] - 44s 107ms/step - loss: 0.5831 - accuracy: 0.8142 - val_loss: 0.3441 - val_accuracy: 0.8926\n",
      "Epoch 17/70\n",
      "416/416 [==============================] - 45s 107ms/step - loss: 0.5756 - accuracy: 0.8082 - val_loss: 0.3203 - val_accuracy: 0.8827\n",
      "Epoch 18/70\n",
      "416/416 [==============================] - 44s 107ms/step - loss: 0.5457 - accuracy: 0.8285 - val_loss: 0.2667 - val_accuracy: 0.9046\n",
      "Epoch 19/70\n",
      "416/416 [==============================] - 44s 107ms/step - loss: 0.5259 - accuracy: 0.8327 - val_loss: 0.2542 - val_accuracy: 0.9085\n",
      "Epoch 20/70\n",
      "416/416 [==============================] - 45s 107ms/step - loss: 0.5119 - accuracy: 0.8331 - val_loss: 0.2264 - val_accuracy: 0.9245\n",
      "Epoch 21/70\n",
      "416/416 [==============================] - 44s 107ms/step - loss: 0.4755 - accuracy: 0.8455 - val_loss: 0.2063 - val_accuracy: 0.9344\n",
      "Epoch 22/70\n",
      "416/416 [==============================] - 45s 107ms/step - loss: 0.4596 - accuracy: 0.8505 - val_loss: 0.2377 - val_accuracy: 0.9185\n",
      "Epoch 23/70\n",
      "416/416 [==============================] - 44s 107ms/step - loss: 0.4607 - accuracy: 0.8527 - val_loss: 0.2115 - val_accuracy: 0.9245\n",
      "Epoch 24/70\n",
      "416/416 [==============================] - 45s 107ms/step - loss: 0.4229 - accuracy: 0.8641 - val_loss: 0.1761 - val_accuracy: 0.9443\n",
      "Epoch 25/70\n",
      "416/416 [==============================] - 44s 107ms/step - loss: 0.3936 - accuracy: 0.8721 - val_loss: 0.1671 - val_accuracy: 0.9463\n",
      "Epoch 26/70\n",
      "416/416 [==============================] - 45s 107ms/step - loss: 0.3945 - accuracy: 0.8715 - val_loss: 0.1579 - val_accuracy: 0.9543\n",
      "Epoch 27/70\n",
      "416/416 [==============================] - 45s 107ms/step - loss: 0.3700 - accuracy: 0.8818 - val_loss: 0.1477 - val_accuracy: 0.9602\n",
      "Epoch 28/70\n",
      "416/416 [==============================] - 46s 110ms/step - loss: 0.3661 - accuracy: 0.8856 - val_loss: 0.1312 - val_accuracy: 0.9602\n",
      "Epoch 29/70\n",
      "416/416 [==============================] - 45s 107ms/step - loss: 0.3442 - accuracy: 0.8840 - val_loss: 0.1715 - val_accuracy: 0.9404\n",
      "Epoch 30/70\n",
      "416/416 [==============================] - 45s 107ms/step - loss: 0.3409 - accuracy: 0.8886 - val_loss: 0.1259 - val_accuracy: 0.9563\n",
      "Epoch 31/70\n",
      "416/416 [==============================] - 46s 110ms/step - loss: 0.3357 - accuracy: 0.8888 - val_loss: 0.2060 - val_accuracy: 0.9364\n",
      "Epoch 32/70\n",
      "416/416 [==============================] - 45s 108ms/step - loss: 0.3272 - accuracy: 0.8888 - val_loss: 0.1471 - val_accuracy: 0.9662\n",
      "Epoch 33/70\n",
      "416/416 [==============================] - 44s 107ms/step - loss: 0.3120 - accuracy: 0.8954 - val_loss: 0.1156 - val_accuracy: 0.9583\n",
      "Epoch 34/70\n",
      "416/416 [==============================] - 45s 107ms/step - loss: 0.3225 - accuracy: 0.8920 - val_loss: 0.1159 - val_accuracy: 0.9602\n",
      "Epoch 35/70\n",
      "416/416 [==============================] - 45s 108ms/step - loss: 0.2885 - accuracy: 0.9090 - val_loss: 0.0963 - val_accuracy: 0.9702\n",
      "Epoch 36/70\n",
      "416/416 [==============================] - 45s 108ms/step - loss: 0.2859 - accuracy: 0.9076 - val_loss: 0.0771 - val_accuracy: 0.9801\n",
      "Epoch 37/70\n",
      "416/416 [==============================] - 45s 108ms/step - loss: 0.2716 - accuracy: 0.9110 - val_loss: 0.0868 - val_accuracy: 0.9722\n",
      "Epoch 38/70\n",
      "416/416 [==============================] - 46s 111ms/step - loss: 0.2680 - accuracy: 0.9132 - val_loss: 0.0753 - val_accuracy: 0.9682\n",
      "Epoch 39/70\n",
      "416/416 [==============================] - 48s 115ms/step - loss: 0.2470 - accuracy: 0.9160 - val_loss: 0.0794 - val_accuracy: 0.9702\n",
      "Epoch 40/70\n",
      "416/416 [==============================] - 48s 114ms/step - loss: 0.2472 - accuracy: 0.9210 - val_loss: 0.0925 - val_accuracy: 0.9742\n",
      "Epoch 41/70\n",
      "416/416 [==============================] - 48s 114ms/step - loss: 0.2430 - accuracy: 0.9240 - val_loss: 0.1019 - val_accuracy: 0.9642\n",
      "Epoch 42/70\n",
      "416/416 [==============================] - 45s 108ms/step - loss: 0.2219 - accuracy: 0.9232 - val_loss: 0.1509 - val_accuracy: 0.9483\n",
      "Epoch 43/70\n",
      "416/416 [==============================] - 45s 108ms/step - loss: 0.2280 - accuracy: 0.9212 - val_loss: 0.0867 - val_accuracy: 0.9742\n",
      "Epoch 44/70\n",
      "416/416 [==============================] - 45s 107ms/step - loss: 0.2536 - accuracy: 0.9168 - val_loss: 0.0710 - val_accuracy: 0.9761\n",
      "Epoch 45/70\n",
      "416/416 [==============================] - 45s 107ms/step - loss: 0.2075 - accuracy: 0.9279 - val_loss: 0.0584 - val_accuracy: 0.9761\n",
      "Epoch 46/70\n",
      "416/416 [==============================] - 45s 107ms/step - loss: 0.2106 - accuracy: 0.9325 - val_loss: 0.0621 - val_accuracy: 0.9821\n",
      "Epoch 47/70\n",
      "416/416 [==============================] - 45s 108ms/step - loss: 0.2096 - accuracy: 0.9337 - val_loss: 0.0748 - val_accuracy: 0.9781\n",
      "Epoch 48/70\n",
      "416/416 [==============================] - 45s 107ms/step - loss: 0.2153 - accuracy: 0.9261 - val_loss: 0.0484 - val_accuracy: 0.9881\n",
      "Epoch 49/70\n",
      "416/416 [==============================] - 45s 107ms/step - loss: 0.2095 - accuracy: 0.9303 - val_loss: 0.0929 - val_accuracy: 0.9742\n",
      "Epoch 50/70\n",
      "416/416 [==============================] - 45s 108ms/step - loss: 0.1931 - accuracy: 0.9353 - val_loss: 0.0679 - val_accuracy: 0.9781\n",
      "Epoch 51/70\n",
      "416/416 [==============================] - 45s 107ms/step - loss: 0.1911 - accuracy: 0.9385 - val_loss: 0.0397 - val_accuracy: 0.9920\n",
      "Epoch 52/70\n",
      "416/416 [==============================] - 45s 108ms/step - loss: 0.1836 - accuracy: 0.9383 - val_loss: 0.0550 - val_accuracy: 0.9861\n",
      "Epoch 53/70\n",
      "416/416 [==============================] - 45s 109ms/step - loss: 0.1860 - accuracy: 0.9389 - val_loss: 0.0464 - val_accuracy: 0.9841\n",
      "Epoch 54/70\n",
      "416/416 [==============================] - 45s 108ms/step - loss: 0.1892 - accuracy: 0.9397 - val_loss: 0.0803 - val_accuracy: 0.9781\n",
      "Epoch 55/70\n",
      "416/416 [==============================] - 45s 108ms/step - loss: 0.1758 - accuracy: 0.9419 - val_loss: 0.0419 - val_accuracy: 0.9881\n",
      "Epoch 56/70\n",
      "416/416 [==============================] - 45s 108ms/step - loss: 0.1614 - accuracy: 0.9489 - val_loss: 0.0362 - val_accuracy: 0.9861\n",
      "Epoch 57/70\n",
      "416/416 [==============================] - 45s 108ms/step - loss: 0.1658 - accuracy: 0.9427 - val_loss: 0.0564 - val_accuracy: 0.9801\n",
      "Epoch 58/70\n",
      "416/416 [==============================] - 45s 107ms/step - loss: 0.1609 - accuracy: 0.9453 - val_loss: 0.0669 - val_accuracy: 0.9801\n",
      "Epoch 59/70\n",
      "416/416 [==============================] - 45s 108ms/step - loss: 0.1607 - accuracy: 0.9453 - val_loss: 0.0310 - val_accuracy: 0.9881\n",
      "Epoch 60/70\n",
      "416/416 [==============================] - 45s 107ms/step - loss: 0.1585 - accuracy: 0.9459 - val_loss: 0.0474 - val_accuracy: 0.9821\n",
      "Epoch 61/70\n",
      "416/416 [==============================] - 45s 107ms/step - loss: 0.1578 - accuracy: 0.9461 - val_loss: 0.0656 - val_accuracy: 0.9761\n",
      "Epoch 62/70\n",
      "416/416 [==============================] - 45s 108ms/step - loss: 0.1325 - accuracy: 0.9559 - val_loss: 0.0234 - val_accuracy: 0.9960\n",
      "Epoch 63/70\n",
      "416/416 [==============================] - 45s 107ms/step - loss: 0.1593 - accuracy: 0.9445 - val_loss: 0.0327 - val_accuracy: 0.9881\n",
      "Epoch 64/70\n",
      "416/416 [==============================] - 45s 107ms/step - loss: 0.1502 - accuracy: 0.9515 - val_loss: 0.0228 - val_accuracy: 0.9960\n",
      "Epoch 65/70\n",
      "416/416 [==============================] - 45s 107ms/step - loss: 0.1418 - accuracy: 0.9551 - val_loss: 0.0259 - val_accuracy: 0.9881\n",
      "Epoch 66/70\n",
      "416/416 [==============================] - 44s 107ms/step - loss: 0.1397 - accuracy: 0.9529 - val_loss: 0.0268 - val_accuracy: 0.9920\n",
      "Epoch 67/70\n",
      "416/416 [==============================] - 45s 107ms/step - loss: 0.1441 - accuracy: 0.9485 - val_loss: 0.0604 - val_accuracy: 0.9821\n",
      "Epoch 68/70\n",
      "416/416 [==============================] - 45s 108ms/step - loss: 0.1489 - accuracy: 0.9543 - val_loss: 0.0563 - val_accuracy: 0.9841\n",
      "Epoch 69/70\n",
      "416/416 [==============================] - 45s 108ms/step - loss: 0.1297 - accuracy: 0.9605 - val_loss: 0.0311 - val_accuracy: 0.9940\n",
      "Epoch 70/70\n",
      "416/416 [==============================] - 45s 109ms/step - loss: 0.1210 - accuracy: 0.9603 - val_loss: 0.0271 - val_accuracy: 0.9940\n"
     ]
    }
   ],
   "source": [
    "num_classes = 8\n",
    "img_size = 224\n",
    "\n",
    "inputs = layers.Input(shape=(img_size, img_size, 3))\n",
    "output = EfficientNetV2B0(include_top=True, weights=None, classes=num_classes,include_preprocessing = False, input_shape = (224,224,3))(inputs)#,include_preprocessing = False\n",
    "\n",
    "model = keras.Model(inputs,output)\n",
    "model.compile(optimizer='adam', loss = 'categorical_crossentropy', metrics=[\"accuracy\"])\n",
    "model.summary()\n",
    "his = model.fit(train_gen,epochs=70,validation_data = val_gen)"
   ],
   "metadata": {
    "collapsed": false
   }
  },
  {
   "cell_type": "code",
   "execution_count": 6,
   "outputs": [],
   "source": [
    "model.layers[1].save_weights('3_weights_EfficientNetb0v2_ep70_full.h5')"
   ],
   "metadata": {
    "collapsed": false
   }
  },
  {
   "cell_type": "code",
   "execution_count": 7,
   "outputs": [],
   "source": [
    "model.save('3_EfficientNetb0v2_ep70_full.h5')"
   ],
   "metadata": {
    "collapsed": false
   }
  },
  {
   "cell_type": "code",
   "execution_count": 8,
   "outputs": [
    {
     "data": {
      "text/plain": "<Figure size 640x480 with 1 Axes>",
      "image/png": "[encoded data removed]"
     },
     "metadata": {},
     "output_type": "display_data"
    }
   ],
   "source": [
    "plt.plot(his.history['accuracy'])\n",
    "plt.plot(his.history['val_accuracy'])\n",
    "plt.title('model accuracy')\n",
    "plt.ylabel('accuracy')\n",
    "plt.xlabel('epoch')\n",
    "plt.legend(['train', 'val'], loc='upper left')\n",
    "plt.show()"
   ],
   "metadata": {
    "collapsed": false
   }
  },
  {
   "cell_type": "code",
   "execution_count": null,
   "outputs": [],
   "source": [],
   "metadata": {
    "collapsed": false
   }
  }
 ],
 "metadata": {
  "kernelspec": {
   "display_name": "Python 3",
   "language": "python",
   "name": "python3"
  },
  "language_info": {
   "codemirror_mode": {
    "name": "ipython",
    "version": 2
   },
   "file_extension": ".py",
   "mimetype": "text/x-python",
   "name": "python",
   "nbconvert_exporter": "python",
   "pygments_lexer": "ipython2",
   "version": "2.7.6"
  }
 },
 "nbformat": 4,
 "nbformat_minor": 0
}
