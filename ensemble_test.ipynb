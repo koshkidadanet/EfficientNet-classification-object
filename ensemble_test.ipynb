{
 "cells": [
  {
   "cell_type": "code",
   "execution_count": 1,
   "metadata": {
    "collapsed": true
   },
   "outputs": [],
   "source": [
    "import cv2\n",
    "import keras\n",
    "import pandas as pd\n",
    "from keras.utils import Sequence\n",
    "import numpy as np"
   ]
  },
  {
   "cell_type": "code",
   "execution_count": 2,
   "outputs": [],
   "source": [
    "y_test = pd.read_csv('../test_dataset_test/test.csv')\n",
    "\n",
    "data_list = []\n",
    "for i in y_test['ID_img']:\n",
    "    #print(i)\n",
    "    image = cv2.imread('../test_dataset_test/test/'+i)\n",
    "    image = cv2.resize(image, (224, 224))\n",
    "    data_list.append(image)"
   ],
   "metadata": {
    "collapsed": false
   }
  },
  {
   "cell_type": "code",
   "execution_count": 3,
   "outputs": [
    {
     "name": "stdout",
     "output_type": "stream",
     "text": [
      "179/179 [==============================] - 10s 35ms/step\n",
      "179/179 [==============================] - 7s 29ms/step\n",
      "179/179 [==============================] - 6s 26ms/step\n"
     ]
    }
   ],
   "source": [
    "x_test_all = np.array(data_list).astype('float32') / 255.0\n",
    "\n",
    "class DataGenerator(Sequence):\n",
    "    def __init__(self, x_set, batch_size):\n",
    "        self.x = x_set\n",
    "        self.batch_size = batch_size\n",
    "\n",
    "    def __len__(self):\n",
    "        return int(np.ceil(len(self.x) / float(self.batch_size)))\n",
    "\n",
    "    def __getitem__(self, idx):\n",
    "        batch_x = self.x[idx * self.batch_size:(idx + 1) * self.batch_size]\n",
    "        return batch_x\n",
    "x_test = DataGenerator(x_test_all, 12)\n",
    "\n",
    "\n",
    "model_1 = keras.models.load_model('1_EfficientNetb0_ep290_full.h5')\n",
    "model_2 = keras.models.load_model('2_EfficientNetb0v2_ep301_full.h5')\n",
    "model_3 = keras.models.load_model('3_EfficientNetb0v2_ep150_full.h5')\n",
    "y_pred = model_1.predict(x_test)\n",
    "y_pred += model_2.predict(x_test)\n",
    "y_pred += model_3.predict(x_test)"
   ],
   "metadata": {
    "collapsed": false
   }
  },
  {
   "cell_type": "code",
   "execution_count": 4,
   "outputs": [
    {
     "name": "stdout",
     "output_type": "stream",
     "text": [
      "5\n"
     ]
    }
   ],
   "source": [
    "print(np.argmax(y_pred[0]))"
   ],
   "metadata": {
    "collapsed": false
   }
  },
  {
   "cell_type": "code",
   "execution_count": 5,
   "outputs": [
    {
     "name": "stderr",
     "output_type": "stream",
     "text": [
      "C:\\Users\\koshk\\AppData\\Local\\Temp\\ipykernel_500\\2614757099.py:3: SettingWithCopyWarning: \n",
      "A value is trying to be set on a copy of a slice from a DataFrame\n",
      "\n",
      "See the caveats in the documentation: https://pandas.pydata.org/pandas-docs/stable/user_guide/indexing.html#returning-a-view-versus-a-copy\n",
      "  y_test['class'][i] = np.argmax(y_pred[i])\n"
     ]
    },
    {
     "name": "stdout",
     "output_type": "stream",
     "text": [
      "        ID_img  class\n",
      "0        0.jpg      5\n",
      "1        1.jpg      5\n",
      "2        2.jpg      1\n",
      "3        3.jpg      1\n",
      "4        4.jpg      6\n",
      "...        ...    ...\n",
      "2133  2133.jpg      4\n",
      "2134  2134.jpg      1\n",
      "2135  2135.jpg      1\n",
      "2136  2136.jpg      3\n",
      "2137  2137.jpg      0\n",
      "\n",
      "[2138 rows x 2 columns]\n"
     ]
    }
   ],
   "source": [
    "y_test = pd.read_csv('../test_dataset_test/test.csv')\n",
    "for i in range(y_test.shape[0]):\n",
    "    y_test['class'][i] = np.argmax(y_pred[i])\n",
    "print(y_test)\n",
    "\n",
    "y_test.to_csv('full.csv', index=False)"
   ],
   "metadata": {
    "collapsed": false
   }
  },
  {
   "cell_type": "code",
   "execution_count": null,
   "outputs": [],
   "source": [],
   "metadata": {
    "collapsed": false
   }
  }
 ],
 "metadata": {
  "kernelspec": {
   "display_name": "Python 3",
   "language": "python",
   "name": "python3"
  },
  "language_info": {
   "codemirror_mode": {
    "name": "ipython",
    "version": 2
   },
   "file_extension": ".py",
   "mimetype": "text/x-python",
   "name": "python",
   "nbconvert_exporter": "python",
   "pygments_lexer": "ipython2",
   "version": "2.7.6"
  }
 },
 "nbformat": 4,
 "nbformat_minor": 0
}
